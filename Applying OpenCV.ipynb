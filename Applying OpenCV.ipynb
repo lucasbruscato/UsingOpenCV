{
 "cells": [
  {
   "cell_type": "code",
   "execution_count": 15,
   "metadata": {},
   "outputs": [],
   "source": [
    "image_path = 'images/1.jpg'\n",
    "output_path = 'output_images/1.jpg'\n",
    "\n",
    "confidence = 0.2"
   ]
  },
  {
   "cell_type": "code",
   "execution_count": 16,
   "metadata": {},
   "outputs": [
    {
     "name": "stdout",
     "output_type": "stream",
     "text": [
      "[INFO] loading model...\n",
      "[INFO] computing object detections...\n",
      "[INFO] person: 99.95%\n",
      "[INFO] person: 99.87%\n"
     ]
    }
   ],
   "source": [
    "# set Caffe prototxt file and pre-trained model\n",
    "prototxt = 'object-detection-deep-learning/MobileNetSSD_deploy.prototxt.txt'\n",
    "model = 'object-detection-deep-learning/MobileNetSSD_deploy.caffemodel'\n",
    "\n",
    "call_string = \"object-detection-deep-learning/deep_learning_object_detection.py\" + \" -i \" + image_path + \" -o \" + output_path + \" -p \" + prototxt + \" -m \" + model + \" -c \" + str(confidence)\n",
    "\n",
    "%run $call_string"
   ]
  }
 ],
 "metadata": {
  "kernelspec": {
   "display_name": "Python 3",
   "language": "python",
   "name": "python3"
  },
  "language_info": {
   "codemirror_mode": {
    "name": "ipython",
    "version": 3
   },
   "file_extension": ".py",
   "mimetype": "text/x-python",
   "name": "python",
   "nbconvert_exporter": "python",
   "pygments_lexer": "ipython3",
   "version": "3.7.1"
  }
 },
 "nbformat": 4,
 "nbformat_minor": 2
}
